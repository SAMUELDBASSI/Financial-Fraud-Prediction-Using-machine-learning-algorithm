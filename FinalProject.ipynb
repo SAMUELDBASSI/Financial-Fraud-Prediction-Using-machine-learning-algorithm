{
 "cells": [
  {
   "cell_type": "markdown",
   "id": "bc0c59ab-6fbd-4a85-854c-13f2078b2297",
   "metadata": {
    "tags": []
   },
   "source": [
    "\n",
    "# Detecting Fraudulent Transaction using Machine Learning Model\n",
    "#### Objectives\n",
    "\n",
    "#### The objective of this project is to develop a model for predicting fraudulent transaction for a financial company and use insight from the model to develop an actionable plan."
   ]
  },
  {
   "cell_type": "code",
   "execution_count": 132,
   "id": "6f6d4149-c69c-478f-929c-b9e81f6a8ce9",
   "metadata": {},
   "outputs": [],
   "source": [
    "import numpy as np\n",
    "import pandas as pd\n",
    "import matplotlib.pyplot as plt\n",
    "import seaborn as sns\n",
    "import dataprep as prep\n",
    "\n",
    "plt.style.use('ggplot')\n",
    "import warnings\n",
    "warnings.filterwarnings('ignore')\n"
   ]
  },
  {
   "cell_type": "markdown",
   "id": "657707a5-abb6-443d-9f2b-989d43eaa637",
   "metadata": {},
   "source": [
    "IMPORTING AND UNDERSTANDING DATASET "
   ]
  },
  {
   "cell_type": "code",
   "execution_count": 133,
   "id": "530220d4-cab9-4478-abe8-4de21fc45537",
   "metadata": {},
   "outputs": [],
   "source": [
    "FT_Data = pd.read_csv('Fraud_Transaction.csv.csv')\n"
   ]
  },
  {
   "cell_type": "code",
   "execution_count": 134,
   "id": "4e5ea080-b3a4-4019-abc1-b54e08771380",
   "metadata": {},
   "outputs": [
    {
     "data": {
      "text/html": [
       "<div>\n",
       "<style scoped>\n",
       "    .dataframe tbody tr th:only-of-type {\n",
       "        vertical-align: middle;\n",
       "    }\n",
       "\n",
       "    .dataframe tbody tr th {\n",
       "        vertical-align: top;\n",
       "    }\n",
       "\n",
       "    .dataframe thead th {\n",
       "        text-align: right;\n",
       "    }\n",
       "</style>\n",
       "<table border=\"1\" class=\"dataframe\">\n",
       "  <thead>\n",
       "    <tr style=\"text-align: right;\">\n",
       "      <th></th>\n",
       "      <th>step</th>\n",
       "      <th>type (str)</th>\n",
       "      <th>type</th>\n",
       "      <th>amount</th>\n",
       "      <th>nameOrig</th>\n",
       "      <th>oldbalanceOrg</th>\n",
       "      <th>newbalanceOrig</th>\n",
       "      <th>nameDest</th>\n",
       "      <th>oldbalanceDest</th>\n",
       "      <th>newbalanceDest</th>\n",
       "      <th>Outcome</th>\n",
       "      <th>Outcome(str)</th>\n",
       "    </tr>\n",
       "  </thead>\n",
       "  <tbody>\n",
       "    <tr>\n",
       "      <th>0</th>\n",
       "      <td>1</td>\n",
       "      <td>PAYMENT</td>\n",
       "      <td>0</td>\n",
       "      <td>1.361982e+09</td>\n",
       "      <td>C1231006815</td>\n",
       "      <td>170136.0</td>\n",
       "      <td>160296.36</td>\n",
       "      <td>M1979787155</td>\n",
       "      <td>0.0</td>\n",
       "      <td>0.0</td>\n",
       "      <td>0</td>\n",
       "      <td>Non-Fraudulent</td>\n",
       "    </tr>\n",
       "    <tr>\n",
       "      <th>1</th>\n",
       "      <td>1</td>\n",
       "      <td>PAYMENT</td>\n",
       "      <td>0</td>\n",
       "      <td>1.864280e+03</td>\n",
       "      <td>C1666544295</td>\n",
       "      <td>21249.0</td>\n",
       "      <td>19384.72</td>\n",
       "      <td>M2044282225</td>\n",
       "      <td>0.0</td>\n",
       "      <td>0.0</td>\n",
       "      <td>0</td>\n",
       "      <td>Non-Fraudulent</td>\n",
       "    </tr>\n",
       "    <tr>\n",
       "      <th>2</th>\n",
       "      <td>1</td>\n",
       "      <td>TRANSFER</td>\n",
       "      <td>1</td>\n",
       "      <td>1.810000e+02</td>\n",
       "      <td>C1305486145</td>\n",
       "      <td>181.0</td>\n",
       "      <td>0.00</td>\n",
       "      <td>C553264065</td>\n",
       "      <td>0.0</td>\n",
       "      <td>0.0</td>\n",
       "      <td>1</td>\n",
       "      <td>Fraudulent</td>\n",
       "    </tr>\n",
       "    <tr>\n",
       "      <th>3</th>\n",
       "      <td>1</td>\n",
       "      <td>CASH_OUT</td>\n",
       "      <td>2</td>\n",
       "      <td>1.810000e+02</td>\n",
       "      <td>C840083671</td>\n",
       "      <td>181.0</td>\n",
       "      <td>0.00</td>\n",
       "      <td>C38997010</td>\n",
       "      <td>21182.0</td>\n",
       "      <td>0.0</td>\n",
       "      <td>1</td>\n",
       "      <td>Fraudulent</td>\n",
       "    </tr>\n",
       "    <tr>\n",
       "      <th>4</th>\n",
       "      <td>1</td>\n",
       "      <td>PAYMENT</td>\n",
       "      <td>0</td>\n",
       "      <td>1.166814e+04</td>\n",
       "      <td>C2048537720</td>\n",
       "      <td>41554.0</td>\n",
       "      <td>29885.86</td>\n",
       "      <td>M1230701703</td>\n",
       "      <td>0.0</td>\n",
       "      <td>0.0</td>\n",
       "      <td>0</td>\n",
       "      <td>Non-Fraudulent</td>\n",
       "    </tr>\n",
       "  </tbody>\n",
       "</table>\n",
       "</div>"
      ],
      "text/plain": [
       "   step type (str)  type        amount     nameOrig  oldbalanceOrg  \\\n",
       "0     1    PAYMENT     0  1.361982e+09  C1231006815       170136.0   \n",
       "1     1    PAYMENT     0  1.864280e+03  C1666544295        21249.0   \n",
       "2     1   TRANSFER     1  1.810000e+02  C1305486145          181.0   \n",
       "3     1   CASH_OUT     2  1.810000e+02   C840083671          181.0   \n",
       "4     1    PAYMENT     0  1.166814e+04  C2048537720        41554.0   \n",
       "\n",
       "   newbalanceOrig     nameDest  oldbalanceDest  newbalanceDest  Outcome  \\\n",
       "0       160296.36  M1979787155             0.0             0.0        0   \n",
       "1        19384.72  M2044282225             0.0             0.0        0   \n",
       "2            0.00   C553264065             0.0             0.0        1   \n",
       "3            0.00    C38997010         21182.0             0.0        1   \n",
       "4        29885.86  M1230701703             0.0             0.0        0   \n",
       "\n",
       "     Outcome(str)  \n",
       "0  Non-Fraudulent  \n",
       "1  Non-Fraudulent  \n",
       "2      Fraudulent  \n",
       "3      Fraudulent  \n",
       "4  Non-Fraudulent  "
      ]
     },
     "execution_count": 134,
     "metadata": {},
     "output_type": "execute_result"
    }
   ],
   "source": [
    "FT_Data.head() #shows the first five rows of the dataset"
   ]
  },
  {
   "cell_type": "code",
   "execution_count": 135,
   "id": "4b003fe7-341d-49f3-9d27-b3dc394f1dbd",
   "metadata": {},
   "outputs": [
    {
     "data": {
      "text/html": [
       "<div>\n",
       "<style scoped>\n",
       "    .dataframe tbody tr th:only-of-type {\n",
       "        vertical-align: middle;\n",
       "    }\n",
       "\n",
       "    .dataframe tbody tr th {\n",
       "        vertical-align: top;\n",
       "    }\n",
       "\n",
       "    .dataframe thead th {\n",
       "        text-align: right;\n",
       "    }\n",
       "</style>\n",
       "<table border=\"1\" class=\"dataframe\">\n",
       "  <thead>\n",
       "    <tr style=\"text-align: right;\">\n",
       "      <th></th>\n",
       "      <th>step</th>\n",
       "      <th>type (str)</th>\n",
       "      <th>type</th>\n",
       "      <th>amount</th>\n",
       "      <th>nameOrig</th>\n",
       "      <th>oldbalanceOrg</th>\n",
       "      <th>newbalanceOrig</th>\n",
       "      <th>nameDest</th>\n",
       "      <th>oldbalanceDest</th>\n",
       "      <th>newbalanceDest</th>\n",
       "      <th>Outcome</th>\n",
       "      <th>Outcome(str)</th>\n",
       "    </tr>\n",
       "  </thead>\n",
       "  <tbody>\n",
       "    <tr>\n",
       "      <th>1048570</th>\n",
       "      <td>95</td>\n",
       "      <td>CASH_OUT</td>\n",
       "      <td>2</td>\n",
       "      <td>132557.35</td>\n",
       "      <td>C1179511630</td>\n",
       "      <td>479803.00</td>\n",
       "      <td>347245.65</td>\n",
       "      <td>C435674507</td>\n",
       "      <td>484329.37</td>\n",
       "      <td>616886.72</td>\n",
       "      <td>0</td>\n",
       "      <td>Non-Fraudulent</td>\n",
       "    </tr>\n",
       "    <tr>\n",
       "      <th>1048571</th>\n",
       "      <td>95</td>\n",
       "      <td>PAYMENT</td>\n",
       "      <td>0</td>\n",
       "      <td>9917.36</td>\n",
       "      <td>C1956161225</td>\n",
       "      <td>90545.00</td>\n",
       "      <td>80627.64</td>\n",
       "      <td>M668364942</td>\n",
       "      <td>0.00</td>\n",
       "      <td>0.00</td>\n",
       "      <td>0</td>\n",
       "      <td>Non-Fraudulent</td>\n",
       "    </tr>\n",
       "    <tr>\n",
       "      <th>1048572</th>\n",
       "      <td>95</td>\n",
       "      <td>PAYMENT</td>\n",
       "      <td>0</td>\n",
       "      <td>14140.05</td>\n",
       "      <td>C2037964975</td>\n",
       "      <td>20545.00</td>\n",
       "      <td>6404.95</td>\n",
       "      <td>M1355182933</td>\n",
       "      <td>0.00</td>\n",
       "      <td>0.00</td>\n",
       "      <td>0</td>\n",
       "      <td>Non-Fraudulent</td>\n",
       "    </tr>\n",
       "    <tr>\n",
       "      <th>1048573</th>\n",
       "      <td>95</td>\n",
       "      <td>PAYMENT</td>\n",
       "      <td>0</td>\n",
       "      <td>10020.05</td>\n",
       "      <td>C1633237354</td>\n",
       "      <td>90605.00</td>\n",
       "      <td>80584.95</td>\n",
       "      <td>M1964992463</td>\n",
       "      <td>0.00</td>\n",
       "      <td>0.00</td>\n",
       "      <td>0</td>\n",
       "      <td>Non-Fraudulent</td>\n",
       "    </tr>\n",
       "    <tr>\n",
       "      <th>1048574</th>\n",
       "      <td>95</td>\n",
       "      <td>PAYMENT</td>\n",
       "      <td>0</td>\n",
       "      <td>11450.03</td>\n",
       "      <td>C1264356443</td>\n",
       "      <td>80584.95</td>\n",
       "      <td>69134.92</td>\n",
       "      <td>M677577406</td>\n",
       "      <td>0.00</td>\n",
       "      <td>0.00</td>\n",
       "      <td>0</td>\n",
       "      <td>Non-Fraudulent</td>\n",
       "    </tr>\n",
       "  </tbody>\n",
       "</table>\n",
       "</div>"
      ],
      "text/plain": [
       "         step type (str)  type     amount     nameOrig  oldbalanceOrg  \\\n",
       "1048570    95   CASH_OUT     2  132557.35  C1179511630      479803.00   \n",
       "1048571    95    PAYMENT     0    9917.36  C1956161225       90545.00   \n",
       "1048572    95    PAYMENT     0   14140.05  C2037964975       20545.00   \n",
       "1048573    95    PAYMENT     0   10020.05  C1633237354       90605.00   \n",
       "1048574    95    PAYMENT     0   11450.03  C1264356443       80584.95   \n",
       "\n",
       "         newbalanceOrig     nameDest  oldbalanceDest  newbalanceDest  Outcome  \\\n",
       "1048570       347245.65   C435674507       484329.37       616886.72        0   \n",
       "1048571        80627.64   M668364942            0.00            0.00        0   \n",
       "1048572         6404.95  M1355182933            0.00            0.00        0   \n",
       "1048573        80584.95  M1964992463            0.00            0.00        0   \n",
       "1048574        69134.92   M677577406            0.00            0.00        0   \n",
       "\n",
       "           Outcome(str)  \n",
       "1048570  Non-Fraudulent  \n",
       "1048571  Non-Fraudulent  \n",
       "1048572  Non-Fraudulent  \n",
       "1048573  Non-Fraudulent  \n",
       "1048574  Non-Fraudulent  "
      ]
     },
     "execution_count": 135,
     "metadata": {},
     "output_type": "execute_result"
    }
   ],
   "source": [
    "FT_Data.tail() #shows the last rows of the dataset"
   ]
  },
  {
   "cell_type": "markdown",
   "id": "b37587f0-2e24-4cd2-adfa-a9d4bc79effe",
   "metadata": {},
   "source": [
    "<h4>Description of Features</h4>\n",
    "<ol>\n",
    "    <li>Step: maps unit of time in real world, </li>\n",
    "    <li>Type: the type of transaction</li>\n",
    "    <li>Amount: Amount of transaction in local currency</li>\n",
    "    <li>NameOrig: Customer who started the transaction </li>\n",
    "    <li>OldbalanceOrg initail balance before transaction</li>\n",
    "    <li>newbalanceOrig: new balance after transaction</li>\n",
    "    <li>NameDest: Custmer who is the recipient of the transaction </li>\n",
    "    <li>oldbalanceDest: initial balance of recipient before transaction</li>\n",
    "    <li>newbalanceDest: initial balance of recipient after transaction </li>\n",
    "    <li>Outcome: the outcome of the prediction</li>\n",
    "</ol>"
   ]
  },
  {
   "cell_type": "code",
   "execution_count": 136,
   "id": "4de9ac59-5677-43ac-9c9f-519a803460ed",
   "metadata": {},
   "outputs": [
    {
     "data": {
      "text/plain": [
       "(1048575, 12)"
      ]
     },
     "execution_count": 136,
     "metadata": {},
     "output_type": "execute_result"
    }
   ],
   "source": [
    "FT_Data.shape #there are 1048575 rows and 11 columns"
   ]
  },
  {
   "cell_type": "code",
   "execution_count": 137,
   "id": "ca8374a5-e36d-4593-9549-86b90e3bf134",
   "metadata": {},
   "outputs": [
    {
     "data": {
      "text/plain": [
       "Index(['step', 'type (str)', 'type', 'amount', 'nameOrig', 'oldbalanceOrg',\n",
       "       'newbalanceOrig', 'nameDest', 'oldbalanceDest', 'newbalanceDest',\n",
       "       'Outcome', 'Outcome(str)'],\n",
       "      dtype='object')"
      ]
     },
     "execution_count": 137,
     "metadata": {},
     "output_type": "execute_result"
    }
   ],
   "source": [
    "FT_Data.columns #these are the columns headers"
   ]
  },
  {
   "cell_type": "code",
   "execution_count": 138,
   "id": "a094ff3f-6fda-42d1-b5dd-d1ec5212c88d",
   "metadata": {},
   "outputs": [
    {
     "name": "stdout",
     "output_type": "stream",
     "text": [
      "<class 'pandas.core.frame.DataFrame'>\n",
      "RangeIndex: 1048575 entries, 0 to 1048574\n",
      "Data columns (total 12 columns):\n",
      " #   Column          Non-Null Count    Dtype  \n",
      "---  ------          --------------    -----  \n",
      " 0   step            1048575 non-null  int64  \n",
      " 1   type (str)      1048575 non-null  object \n",
      " 2   type            1048575 non-null  int64  \n",
      " 3   amount          1048575 non-null  float64\n",
      " 4   nameOrig        1048575 non-null  object \n",
      " 5   oldbalanceOrg   1048575 non-null  float64\n",
      " 6   newbalanceOrig  1048575 non-null  float64\n",
      " 7   nameDest        1048575 non-null  object \n",
      " 8   oldbalanceDest  1048575 non-null  float64\n",
      " 9   newbalanceDest  1048575 non-null  float64\n",
      " 10  Outcome         1048575 non-null  int64  \n",
      " 11  Outcome(str)    1048575 non-null  object \n",
      "dtypes: float64(5), int64(3), object(4)\n",
      "memory usage: 96.0+ MB\n"
     ]
    }
   ],
   "source": [
    "FT_Data.info() #Here we get the datatype of each column and also the number of available values and non-available value "
   ]
  },
  {
   "cell_type": "code",
   "execution_count": 139,
   "id": "6105c922-9990-4c52-8ee9-6b1b1f41285b",
   "metadata": {},
   "outputs": [
    {
     "data": {
      "text/plain": [
       "step                   95\n",
       "type (str)              5\n",
       "type                    5\n",
       "amount            1009607\n",
       "nameOrig          1048317\n",
       "oldbalanceOrg      391033\n",
       "newbalanceOrig     440792\n",
       "nameDest           449635\n",
       "oldbalanceDest     590110\n",
       "newbalanceDest     437054\n",
       "Outcome                 2\n",
       "Outcome(str)            2\n",
       "dtype: int64"
      ]
     },
     "execution_count": 139,
     "metadata": {},
     "output_type": "execute_result"
    }
   ],
   "source": [
    "FT_Data.nunique() #Unique values"
   ]
  },
  {
   "cell_type": "code",
   "execution_count": 140,
   "id": "76e3d703-1713-462c-8f4d-58b340c06cb7",
   "metadata": {},
   "outputs": [
    {
     "data": {
      "text/html": [
       "<div>\n",
       "<style scoped>\n",
       "    .dataframe tbody tr th:only-of-type {\n",
       "        vertical-align: middle;\n",
       "    }\n",
       "\n",
       "    .dataframe tbody tr th {\n",
       "        vertical-align: top;\n",
       "    }\n",
       "\n",
       "    .dataframe thead th {\n",
       "        text-align: right;\n",
       "    }\n",
       "</style>\n",
       "<table border=\"1\" class=\"dataframe\">\n",
       "  <thead>\n",
       "    <tr style=\"text-align: right;\">\n",
       "      <th></th>\n",
       "      <th>count</th>\n",
       "      <th>mean</th>\n",
       "      <th>std</th>\n",
       "      <th>min</th>\n",
       "      <th>25%</th>\n",
       "      <th>50%</th>\n",
       "      <th>75%</th>\n",
       "      <th>max</th>\n",
       "    </tr>\n",
       "  </thead>\n",
       "  <tbody>\n",
       "    <tr>\n",
       "      <th>step</th>\n",
       "      <td>1048575.0</td>\n",
       "      <td>2.696617e+01</td>\n",
       "      <td>1.562325e+01</td>\n",
       "      <td>1.0</td>\n",
       "      <td>15.000</td>\n",
       "      <td>20.00</td>\n",
       "      <td>39.000</td>\n",
       "      <td>9.500000e+01</td>\n",
       "    </tr>\n",
       "    <tr>\n",
       "      <th>type</th>\n",
       "      <td>1048575.0</td>\n",
       "      <td>1.682368e+00</td>\n",
       "      <td>1.484939e+00</td>\n",
       "      <td>0.0</td>\n",
       "      <td>0.000</td>\n",
       "      <td>2.00</td>\n",
       "      <td>2.000</td>\n",
       "      <td>4.000000e+00</td>\n",
       "    </tr>\n",
       "    <tr>\n",
       "      <th>amount</th>\n",
       "      <td>1048575.0</td>\n",
       "      <td>1.599659e+05</td>\n",
       "      <td>1.356040e+06</td>\n",
       "      <td>0.1</td>\n",
       "      <td>12149.135</td>\n",
       "      <td>76343.93</td>\n",
       "      <td>213762.065</td>\n",
       "      <td>1.361982e+09</td>\n",
       "    </tr>\n",
       "    <tr>\n",
       "      <th>oldbalanceOrg</th>\n",
       "      <td>1048575.0</td>\n",
       "      <td>8.740095e+05</td>\n",
       "      <td>2.971751e+06</td>\n",
       "      <td>0.0</td>\n",
       "      <td>0.000</td>\n",
       "      <td>16002.00</td>\n",
       "      <td>136642.020</td>\n",
       "      <td>3.890000e+07</td>\n",
       "    </tr>\n",
       "    <tr>\n",
       "      <th>newbalanceOrig</th>\n",
       "      <td>1048575.0</td>\n",
       "      <td>8.938089e+05</td>\n",
       "      <td>3.008271e+06</td>\n",
       "      <td>0.0</td>\n",
       "      <td>0.000</td>\n",
       "      <td>0.00</td>\n",
       "      <td>174599.990</td>\n",
       "      <td>3.890000e+07</td>\n",
       "    </tr>\n",
       "    <tr>\n",
       "      <th>oldbalanceDest</th>\n",
       "      <td>1048575.0</td>\n",
       "      <td>9.781600e+05</td>\n",
       "      <td>2.296780e+06</td>\n",
       "      <td>0.0</td>\n",
       "      <td>0.000</td>\n",
       "      <td>126377.21</td>\n",
       "      <td>915923.475</td>\n",
       "      <td>4.210000e+07</td>\n",
       "    </tr>\n",
       "    <tr>\n",
       "      <th>newbalanceDest</th>\n",
       "      <td>1048575.0</td>\n",
       "      <td>1.114198e+06</td>\n",
       "      <td>2.416593e+06</td>\n",
       "      <td>0.0</td>\n",
       "      <td>0.000</td>\n",
       "      <td>218260.36</td>\n",
       "      <td>1149807.510</td>\n",
       "      <td>4.220000e+07</td>\n",
       "    </tr>\n",
       "    <tr>\n",
       "      <th>Outcome</th>\n",
       "      <td>1048575.0</td>\n",
       "      <td>1.089097e-03</td>\n",
       "      <td>3.298351e-02</td>\n",
       "      <td>0.0</td>\n",
       "      <td>0.000</td>\n",
       "      <td>0.00</td>\n",
       "      <td>0.000</td>\n",
       "      <td>1.000000e+00</td>\n",
       "    </tr>\n",
       "  </tbody>\n",
       "</table>\n",
       "</div>"
      ],
      "text/plain": [
       "                    count          mean           std  min        25%  \\\n",
       "step            1048575.0  2.696617e+01  1.562325e+01  1.0     15.000   \n",
       "type            1048575.0  1.682368e+00  1.484939e+00  0.0      0.000   \n",
       "amount          1048575.0  1.599659e+05  1.356040e+06  0.1  12149.135   \n",
       "oldbalanceOrg   1048575.0  8.740095e+05  2.971751e+06  0.0      0.000   \n",
       "newbalanceOrig  1048575.0  8.938089e+05  3.008271e+06  0.0      0.000   \n",
       "oldbalanceDest  1048575.0  9.781600e+05  2.296780e+06  0.0      0.000   \n",
       "newbalanceDest  1048575.0  1.114198e+06  2.416593e+06  0.0      0.000   \n",
       "Outcome         1048575.0  1.089097e-03  3.298351e-02  0.0      0.000   \n",
       "\n",
       "                      50%          75%           max  \n",
       "step                20.00       39.000  9.500000e+01  \n",
       "type                 2.00        2.000  4.000000e+00  \n",
       "amount           76343.93   213762.065  1.361982e+09  \n",
       "oldbalanceOrg    16002.00   136642.020  3.890000e+07  \n",
       "newbalanceOrig       0.00   174599.990  3.890000e+07  \n",
       "oldbalanceDest  126377.21   915923.475  4.210000e+07  \n",
       "newbalanceDest  218260.36  1149807.510  4.220000e+07  \n",
       "Outcome              0.00        0.000  1.000000e+00  "
      ]
     },
     "execution_count": 140,
     "metadata": {},
     "output_type": "execute_result"
    }
   ],
   "source": [
    "FT_Data.describe().T #Provide a statistics summary of data belonging to numerical datatype such as int, float"
   ]
  },
  {
   "cell_type": "markdown",
   "id": "82c24b6a-3b80-4e8a-82e9-c7bf5a899519",
   "metadata": {},
   "source": [
    "DATA PREPARATION "
   ]
  },
  {
   "cell_type": "code",
   "execution_count": 141,
   "id": "5e15b6fb-cf76-428a-b0e4-c823663054fe",
   "metadata": {},
   "outputs": [
    {
     "name": "stdout",
     "output_type": "stream",
     "text": [
      "Column Headers Cleaning Report:\n",
      "\t10 values cleaned (83.33%)\n"
     ]
    }
   ],
   "source": [
    "from dataprep.clean import clean_headers\n",
    "FT_Data = clean_headers(FT_Data, case='title')"
   ]
  },
  {
   "cell_type": "code",
   "execution_count": 142,
   "id": "6208b835-6798-4f92-a7c6-10220e4c0d2e",
   "metadata": {},
   "outputs": [
    {
     "data": {
      "text/plain": [
       "Step               0\n",
       "Type (str)         0\n",
       "Type               0\n",
       "Amount             0\n",
       "Name Orig          0\n",
       "Oldbalance Org     0\n",
       "Newbalance Orig    0\n",
       "Name Dest          0\n",
       "Oldbalance Dest    0\n",
       "Newbalance Dest    0\n",
       "Outcome            0\n",
       "Outcome(str)       0\n",
       "dtype: int64"
      ]
     },
     "execution_count": 142,
     "metadata": {},
     "output_type": "execute_result"
    }
   ],
   "source": [
    "FT_Data.isnull().sum() #finding missing values\n"
   ]
  },
  {
   "cell_type": "code",
   "execution_count": 143,
   "id": "b80217ad-46ac-4d6c-aa75-209f1b7f4ba3",
   "metadata": {
    "tags": []
   },
   "outputs": [
    {
     "data": {
      "text/plain": [
       "0"
      ]
     },
     "execution_count": 143,
     "metadata": {},
     "output_type": "execute_result"
    }
   ],
   "source": [
    "FT_Data.duplicated().sum() #finding duplicates value"
   ]
  },
  {
   "cell_type": "code",
   "execution_count": 144,
   "id": "b230834c-b3af-4b9a-980e-fa44a984df4e",
   "metadata": {},
   "outputs": [],
   "source": [
    "#FT_Data.drop_duplicates() #removing duplicates"
   ]
  },
  {
   "cell_type": "code",
   "execution_count": 145,
   "id": "331291ff-4e9b-4339-a9c6-fafb5c69e1ca",
   "metadata": {},
   "outputs": [
    {
     "name": "stdout",
     "output_type": "stream",
     "text": [
      "Categorical Variables:\n",
      "Index(['Type (str)', 'Name Orig', 'Name Dest', 'Outcome(str)'], dtype='object')\n",
      "Numerical Variables:\n",
      "['Step', 'Type', 'Amount', 'Oldbalance Org', 'Newbalance Orig', 'Oldbalance Dest', 'Newbalance Dest', 'Outcome']\n"
     ]
    }
   ],
   "source": [
    "#separate Categorical features from Numeric feature for easy exploratiion\n",
    "cat_cols=FT_Data.select_dtypes(include=['object']).columns\n",
    "num_cols = FT_Data.select_dtypes(include=np.number).columns.tolist()\n",
    "print(\"Categorical Variables:\")\n",
    "print(cat_cols)\n",
    "print(\"Numerical Variables:\")\n",
    "print(num_cols)"
   ]
  },
  {
   "cell_type": "code",
   "execution_count": 146,
   "id": "f01a5023-ae7f-4d3c-9baf-5639e0e4ca87",
   "metadata": {},
   "outputs": [
    {
     "ename": "AttributeError",
     "evalue": "'AxesSubplot' object has no attribute 'unique'",
     "output_type": "error",
     "traceback": [
      "\u001b[1;31m---------------------------------------------------------------------------\u001b[0m",
      "\u001b[1;31mAttributeError\u001b[0m                            Traceback (most recent call last)",
      "Input \u001b[1;32mIn [146]\u001b[0m, in \u001b[0;36m<cell line: 1>\u001b[1;34m()\u001b[0m\n\u001b[1;32m----> 1\u001b[0m \u001b[43msns\u001b[49m\u001b[38;5;241;43m.\u001b[39;49m\u001b[43mcountplot\u001b[49m\u001b[43m(\u001b[49m\u001b[43mFT_Data\u001b[49m\u001b[43m[\u001b[49m\u001b[38;5;124;43m'\u001b[39;49m\u001b[38;5;124;43mType (str)\u001b[39;49m\u001b[38;5;124;43m'\u001b[39;49m\u001b[43m]\u001b[49m\u001b[43m)\u001b[49m\u001b[38;5;241;43m.\u001b[39;49m\u001b[43munique\u001b[49m()\n",
      "\u001b[1;31mAttributeError\u001b[0m: 'AxesSubplot' object has no attribute 'unique'"
     ]
    },
    {
     "data": {
      "image/png": "[encoded data removed]",
      "text/plain": [
       "<Figure size 432x288 with 1 Axes>"
      ]
     },
     "metadata": {},
     "output_type": "display_data"
    }
   ],
   "source": [
    "sns.countplot(FT_Data['Type (str)']).unique()"
   ]
  },
  {
   "cell_type": "code",
   "execution_count": null,
   "id": "2c5626b6-350f-4d8d-b855-9ed82f24bebb",
   "metadata": {},
   "outputs": [],
   "source": [
    "Transaction_Type_counts.index.name = 'Type (str)'\n",
    "Transaction_Type_counts"
   ]
  },
  {
   "cell_type": "code",
   "execution_count": null,
   "id": "6f3a0229-e605-4f11-99bc-abb70a0c20ae",
   "metadata": {},
   "outputs": [],
   "source": [
    "#percentage of transaction type from the database\n",
    "values = FT_Data['Type'].value_counts().values\n",
    "labels = FT_Data['Type'].value_counts().keys()\n",
    "explode = (0.1,0,0,0,0)\n",
    "\n",
    "plt.pie(values,labels=labels,explode=explode,shadow=True,autopct='%1.1f%%')\n",
    "plt.show()"
   ]
  },
  {
   "cell_type": "code",
   "execution_count": null,
   "id": "c06c8d78-386b-4c75-933e-67fe288521ee",
   "metadata": {},
   "outputs": [],
   "source": [
    "#percentage of fraudulent and non-fraudulent transaction from the database\n",
    "values = FT_Data['Outcome'].value_counts().values\n",
    "labels = ['Not Fraud','Fraud']\n",
    "explode = (0.1,0)\n",
    "\n",
    "plt.pie(values,labels=labels,explode=explode,shadow=True,autopct='%1.1f%%')\n",
    "plt.show()"
   ]
  },
  {
   "cell_type": "code",
   "execution_count": null,
   "id": "3ce07782-473b-4ba0-b593-72a249eb0ef5",
   "metadata": {},
   "outputs": [],
   "source": [
    "fraud = FT_Data['Outcome'].value_counts()\n",
    "fraud.to_frame()"
   ]
  },
  {
   "cell_type": "markdown",
   "id": "d887040c-c5e4-40f8-9ae6-1e2babe936de",
   "metadata": {},
   "source": [
    "from the above diagram we found out the dataset is  highly unbalanced because the percentahe of the fraudulent transaction is just 0.1% of the entire dataset, \n",
    "Classifiers learn better from a balanced distibution."
   ]
  },
  {
   "cell_type": "markdown",
   "id": "8a59303c-e806-4160-b4c1-01258f4e804b",
   "metadata": {},
   "source": [
    "MODEL DEVELOPMENT"
   ]
  },
  {
   "cell_type": "code",
   "execution_count": 147,
   "id": "2aca10a2-e223-44f1-9fb3-0fdb5597057b",
   "metadata": {},
   "outputs": [],
   "source": [
    "from sklearn.model_selection import train_test_split, GridSearchCV, RandomizedSearchCV\n",
    "from sklearn.linear_model import LogisticRegression\n",
    "from sklearn.tree import DecisionTreeClassifier\n",
    "from sklearn.ensemble import RandomForestClassifier\n",
    "from sklearn.neighbors import KNeighborsClassifier\n",
    "from sklearn.svm import SVC\n",
    "from sklearn.metrics import classification_report, confusion_matrix, accuracy_score, roc_auc_score, f1_score\n",
    "from sklearn.preprocessing import MinMaxScaler\n",
    "from scipy import stats  \n",
    "import imblearn"
   ]
  },
  {
   "cell_type": "markdown",
   "id": "e40e2c64-69ab-4e74-b955-53152b5c2cf9",
   "metadata": {},
   "source": [
    "Note: The target variable of our machine learning models is predominantly imbalanced\n",
    "which may hamper the predictive accuracy of the models as the predictions may be \n",
    "solely made on the basis of the 'majority class',\n",
    "thereby completely neglecting the 'minority class' as a consequence."
   ]
  },
  {
   "cell_type": "code",
   "execution_count": 148,
   "id": "46a7dcb8-d490-4d2f-90f1-53ed7acb0a66",
   "metadata": {},
   "outputs": [
    {
     "data": {
      "text/html": [
       "<div>\n",
       "<style scoped>\n",
       "    .dataframe tbody tr th:only-of-type {\n",
       "        vertical-align: middle;\n",
       "    }\n",
       "\n",
       "    .dataframe tbody tr th {\n",
       "        vertical-align: top;\n",
       "    }\n",
       "\n",
       "    .dataframe thead th {\n",
       "        text-align: right;\n",
       "    }\n",
       "</style>\n",
       "<table border=\"1\" class=\"dataframe\">\n",
       "  <thead>\n",
       "    <tr style=\"text-align: right;\">\n",
       "      <th></th>\n",
       "      <th>Step</th>\n",
       "      <th>Type (str)</th>\n",
       "      <th>Type</th>\n",
       "      <th>Amount</th>\n",
       "      <th>Name Orig</th>\n",
       "      <th>Oldbalance Org</th>\n",
       "      <th>Newbalance Orig</th>\n",
       "      <th>Name Dest</th>\n",
       "      <th>Oldbalance Dest</th>\n",
       "      <th>Newbalance Dest</th>\n",
       "      <th>Outcome</th>\n",
       "      <th>Outcome(str)</th>\n",
       "    </tr>\n",
       "  </thead>\n",
       "  <tbody>\n",
       "    <tr>\n",
       "      <th>0</th>\n",
       "      <td>1</td>\n",
       "      <td>PAYMENT</td>\n",
       "      <td>0</td>\n",
       "      <td>1.361982e+09</td>\n",
       "      <td>C1231006815</td>\n",
       "      <td>170136.0</td>\n",
       "      <td>160296.36</td>\n",
       "      <td>M1979787155</td>\n",
       "      <td>0.0</td>\n",
       "      <td>0.0</td>\n",
       "      <td>0</td>\n",
       "      <td>Non-Fraudulent</td>\n",
       "    </tr>\n",
       "    <tr>\n",
       "      <th>1</th>\n",
       "      <td>1</td>\n",
       "      <td>PAYMENT</td>\n",
       "      <td>0</td>\n",
       "      <td>1.864280e+03</td>\n",
       "      <td>C1666544295</td>\n",
       "      <td>21249.0</td>\n",
       "      <td>19384.72</td>\n",
       "      <td>M2044282225</td>\n",
       "      <td>0.0</td>\n",
       "      <td>0.0</td>\n",
       "      <td>0</td>\n",
       "      <td>Non-Fraudulent</td>\n",
       "    </tr>\n",
       "    <tr>\n",
       "      <th>2</th>\n",
       "      <td>1</td>\n",
       "      <td>TRANSFER</td>\n",
       "      <td>1</td>\n",
       "      <td>1.810000e+02</td>\n",
       "      <td>C1305486145</td>\n",
       "      <td>181.0</td>\n",
       "      <td>0.00</td>\n",
       "      <td>C553264065</td>\n",
       "      <td>0.0</td>\n",
       "      <td>0.0</td>\n",
       "      <td>1</td>\n",
       "      <td>Fraudulent</td>\n",
       "    </tr>\n",
       "    <tr>\n",
       "      <th>3</th>\n",
       "      <td>1</td>\n",
       "      <td>CASH_OUT</td>\n",
       "      <td>2</td>\n",
       "      <td>1.810000e+02</td>\n",
       "      <td>C840083671</td>\n",
       "      <td>181.0</td>\n",
       "      <td>0.00</td>\n",
       "      <td>C38997010</td>\n",
       "      <td>21182.0</td>\n",
       "      <td>0.0</td>\n",
       "      <td>1</td>\n",
       "      <td>Fraudulent</td>\n",
       "    </tr>\n",
       "    <tr>\n",
       "      <th>4</th>\n",
       "      <td>1</td>\n",
       "      <td>PAYMENT</td>\n",
       "      <td>0</td>\n",
       "      <td>1.166814e+04</td>\n",
       "      <td>C2048537720</td>\n",
       "      <td>41554.0</td>\n",
       "      <td>29885.86</td>\n",
       "      <td>M1230701703</td>\n",
       "      <td>0.0</td>\n",
       "      <td>0.0</td>\n",
       "      <td>0</td>\n",
       "      <td>Non-Fraudulent</td>\n",
       "    </tr>\n",
       "  </tbody>\n",
       "</table>\n",
       "</div>"
      ],
      "text/plain": [
       "   Step Type (str)  Type        Amount    Name Orig  Oldbalance Org  \\\n",
       "0     1    PAYMENT     0  1.361982e+09  C1231006815        170136.0   \n",
       "1     1    PAYMENT     0  1.864280e+03  C1666544295         21249.0   \n",
       "2     1   TRANSFER     1  1.810000e+02  C1305486145           181.0   \n",
       "3     1   CASH_OUT     2  1.810000e+02   C840083671           181.0   \n",
       "4     1    PAYMENT     0  1.166814e+04  C2048537720         41554.0   \n",
       "\n",
       "   Newbalance Orig    Name Dest  Oldbalance Dest  Newbalance Dest  Outcome  \\\n",
       "0        160296.36  M1979787155              0.0              0.0        0   \n",
       "1         19384.72  M2044282225              0.0              0.0        0   \n",
       "2             0.00   C553264065              0.0              0.0        1   \n",
       "3             0.00    C38997010          21182.0              0.0        1   \n",
       "4         29885.86  M1230701703              0.0              0.0        0   \n",
       "\n",
       "     Outcome(str)  \n",
       "0  Non-Fraudulent  \n",
       "1  Non-Fraudulent  \n",
       "2      Fraudulent  \n",
       "3      Fraudulent  \n",
       "4  Non-Fraudulent  "
      ]
     },
     "execution_count": 148,
     "metadata": {},
     "output_type": "execute_result"
    }
   ],
   "source": [
    "FT_Data.head()"
   ]
  },
  {
   "cell_type": "code",
   "execution_count": 149,
   "id": "ecc31e30-7448-4886-80a0-660819b4614b",
   "metadata": {},
   "outputs": [
    {
     "data": {
      "text/html": [
       "<div>\n",
       "<style scoped>\n",
       "    .dataframe tbody tr th:only-of-type {\n",
       "        vertical-align: middle;\n",
       "    }\n",
       "\n",
       "    .dataframe tbody tr th {\n",
       "        vertical-align: top;\n",
       "    }\n",
       "\n",
       "    .dataframe thead th {\n",
       "        text-align: right;\n",
       "    }\n",
       "</style>\n",
       "<table border=\"1\" class=\"dataframe\">\n",
       "  <thead>\n",
       "    <tr style=\"text-align: right;\">\n",
       "      <th></th>\n",
       "      <th>Step</th>\n",
       "      <th>Type</th>\n",
       "      <th>Amount</th>\n",
       "      <th>Oldbalance Org</th>\n",
       "      <th>Newbalance Orig</th>\n",
       "      <th>Oldbalance Dest</th>\n",
       "      <th>Newbalance Dest</th>\n",
       "      <th>Outcome</th>\n",
       "    </tr>\n",
       "  </thead>\n",
       "  <tbody>\n",
       "    <tr>\n",
       "      <th>0</th>\n",
       "      <td>1</td>\n",
       "      <td>0</td>\n",
       "      <td>1.361982e+09</td>\n",
       "      <td>170136.00</td>\n",
       "      <td>160296.36</td>\n",
       "      <td>0.00</td>\n",
       "      <td>0.00</td>\n",
       "      <td>0</td>\n",
       "    </tr>\n",
       "    <tr>\n",
       "      <th>1</th>\n",
       "      <td>1</td>\n",
       "      <td>0</td>\n",
       "      <td>1.864280e+03</td>\n",
       "      <td>21249.00</td>\n",
       "      <td>19384.72</td>\n",
       "      <td>0.00</td>\n",
       "      <td>0.00</td>\n",
       "      <td>0</td>\n",
       "    </tr>\n",
       "    <tr>\n",
       "      <th>2</th>\n",
       "      <td>1</td>\n",
       "      <td>1</td>\n",
       "      <td>1.810000e+02</td>\n",
       "      <td>181.00</td>\n",
       "      <td>0.00</td>\n",
       "      <td>0.00</td>\n",
       "      <td>0.00</td>\n",
       "      <td>1</td>\n",
       "    </tr>\n",
       "    <tr>\n",
       "      <th>3</th>\n",
       "      <td>1</td>\n",
       "      <td>2</td>\n",
       "      <td>1.810000e+02</td>\n",
       "      <td>181.00</td>\n",
       "      <td>0.00</td>\n",
       "      <td>21182.00</td>\n",
       "      <td>0.00</td>\n",
       "      <td>1</td>\n",
       "    </tr>\n",
       "    <tr>\n",
       "      <th>4</th>\n",
       "      <td>1</td>\n",
       "      <td>0</td>\n",
       "      <td>1.166814e+04</td>\n",
       "      <td>41554.00</td>\n",
       "      <td>29885.86</td>\n",
       "      <td>0.00</td>\n",
       "      <td>0.00</td>\n",
       "      <td>0</td>\n",
       "    </tr>\n",
       "    <tr>\n",
       "      <th>...</th>\n",
       "      <td>...</td>\n",
       "      <td>...</td>\n",
       "      <td>...</td>\n",
       "      <td>...</td>\n",
       "      <td>...</td>\n",
       "      <td>...</td>\n",
       "      <td>...</td>\n",
       "      <td>...</td>\n",
       "    </tr>\n",
       "    <tr>\n",
       "      <th>1048570</th>\n",
       "      <td>95</td>\n",
       "      <td>2</td>\n",
       "      <td>1.325574e+05</td>\n",
       "      <td>479803.00</td>\n",
       "      <td>347245.65</td>\n",
       "      <td>484329.37</td>\n",
       "      <td>616886.72</td>\n",
       "      <td>0</td>\n",
       "    </tr>\n",
       "    <tr>\n",
       "      <th>1048571</th>\n",
       "      <td>95</td>\n",
       "      <td>0</td>\n",
       "      <td>9.917360e+03</td>\n",
       "      <td>90545.00</td>\n",
       "      <td>80627.64</td>\n",
       "      <td>0.00</td>\n",
       "      <td>0.00</td>\n",
       "      <td>0</td>\n",
       "    </tr>\n",
       "    <tr>\n",
       "      <th>1048572</th>\n",
       "      <td>95</td>\n",
       "      <td>0</td>\n",
       "      <td>1.414005e+04</td>\n",
       "      <td>20545.00</td>\n",
       "      <td>6404.95</td>\n",
       "      <td>0.00</td>\n",
       "      <td>0.00</td>\n",
       "      <td>0</td>\n",
       "    </tr>\n",
       "    <tr>\n",
       "      <th>1048573</th>\n",
       "      <td>95</td>\n",
       "      <td>0</td>\n",
       "      <td>1.002005e+04</td>\n",
       "      <td>90605.00</td>\n",
       "      <td>80584.95</td>\n",
       "      <td>0.00</td>\n",
       "      <td>0.00</td>\n",
       "      <td>0</td>\n",
       "    </tr>\n",
       "    <tr>\n",
       "      <th>1048574</th>\n",
       "      <td>95</td>\n",
       "      <td>0</td>\n",
       "      <td>1.145003e+04</td>\n",
       "      <td>80584.95</td>\n",
       "      <td>69134.92</td>\n",
       "      <td>0.00</td>\n",
       "      <td>0.00</td>\n",
       "      <td>0</td>\n",
       "    </tr>\n",
       "  </tbody>\n",
       "</table>\n",
       "<p>1048575 rows × 8 columns</p>\n",
       "</div>"
      ],
      "text/plain": [
       "         Step  Type        Amount  Oldbalance Org  Newbalance Orig  \\\n",
       "0           1     0  1.361982e+09       170136.00        160296.36   \n",
       "1           1     0  1.864280e+03        21249.00         19384.72   \n",
       "2           1     1  1.810000e+02          181.00             0.00   \n",
       "3           1     2  1.810000e+02          181.00             0.00   \n",
       "4           1     0  1.166814e+04        41554.00         29885.86   \n",
       "...       ...   ...           ...             ...              ...   \n",
       "1048570    95     2  1.325574e+05       479803.00        347245.65   \n",
       "1048571    95     0  9.917360e+03        90545.00         80627.64   \n",
       "1048572    95     0  1.414005e+04        20545.00          6404.95   \n",
       "1048573    95     0  1.002005e+04        90605.00         80584.95   \n",
       "1048574    95     0  1.145003e+04        80584.95         69134.92   \n",
       "\n",
       "         Oldbalance Dest  Newbalance Dest  Outcome  \n",
       "0                   0.00             0.00        0  \n",
       "1                   0.00             0.00        0  \n",
       "2                   0.00             0.00        1  \n",
       "3               21182.00             0.00        1  \n",
       "4                   0.00             0.00        0  \n",
       "...                  ...              ...      ...  \n",
       "1048570        484329.37        616886.72        0  \n",
       "1048571             0.00             0.00        0  \n",
       "1048572             0.00             0.00        0  \n",
       "1048573             0.00             0.00        0  \n",
       "1048574             0.00             0.00        0  \n",
       "\n",
       "[1048575 rows x 8 columns]"
      ]
     },
     "execution_count": 149,
     "metadata": {},
     "output_type": "execute_result"
    }
   ],
   "source": [
    "FT_Data = FT_Data.drop(columns=['Type (str)','Outcome(str)','Name Orig','Name Dest'])\n",
    "FT_Data"
   ]
  },
  {
   "cell_type": "markdown",
   "id": "9d2a9a59-1200-4fef-ba80-a372422ae72f",
   "metadata": {},
   "source": [
    "#### Splitting the dataset into features and target set"
   ]
  },
  {
   "cell_type": "code",
   "execution_count": 150,
   "id": "0d69a33d-09b3-40d6-959e-eacb9f387274",
   "metadata": {},
   "outputs": [],
   "source": [
    "x = FT_Data.drop(columns=['Outcome'])\n",
    "y = FT_Data['Outcome']"
   ]
  },
  {
   "cell_type": "code",
   "execution_count": 151,
   "id": "58372621-82e1-426d-beec-db5ce7d47c6a",
   "metadata": {},
   "outputs": [
    {
     "data": {
      "text/html": [
       "<div>\n",
       "<style scoped>\n",
       "    .dataframe tbody tr th:only-of-type {\n",
       "        vertical-align: middle;\n",
       "    }\n",
       "\n",
       "    .dataframe tbody tr th {\n",
       "        vertical-align: top;\n",
       "    }\n",
       "\n",
       "    .dataframe thead th {\n",
       "        text-align: right;\n",
       "    }\n",
       "</style>\n",
       "<table border=\"1\" class=\"dataframe\">\n",
       "  <thead>\n",
       "    <tr style=\"text-align: right;\">\n",
       "      <th></th>\n",
       "      <th>Step</th>\n",
       "      <th>Type</th>\n",
       "      <th>Amount</th>\n",
       "      <th>Oldbalance Org</th>\n",
       "      <th>Newbalance Orig</th>\n",
       "      <th>Oldbalance Dest</th>\n",
       "      <th>Newbalance Dest</th>\n",
       "    </tr>\n",
       "  </thead>\n",
       "  <tbody>\n",
       "    <tr>\n",
       "      <th>0</th>\n",
       "      <td>1</td>\n",
       "      <td>0</td>\n",
       "      <td>1.361982e+09</td>\n",
       "      <td>170136.0</td>\n",
       "      <td>160296.36</td>\n",
       "      <td>0.0</td>\n",
       "      <td>0.0</td>\n",
       "    </tr>\n",
       "    <tr>\n",
       "      <th>1</th>\n",
       "      <td>1</td>\n",
       "      <td>0</td>\n",
       "      <td>1.864280e+03</td>\n",
       "      <td>21249.0</td>\n",
       "      <td>19384.72</td>\n",
       "      <td>0.0</td>\n",
       "      <td>0.0</td>\n",
       "    </tr>\n",
       "    <tr>\n",
       "      <th>2</th>\n",
       "      <td>1</td>\n",
       "      <td>1</td>\n",
       "      <td>1.810000e+02</td>\n",
       "      <td>181.0</td>\n",
       "      <td>0.00</td>\n",
       "      <td>0.0</td>\n",
       "      <td>0.0</td>\n",
       "    </tr>\n",
       "    <tr>\n",
       "      <th>3</th>\n",
       "      <td>1</td>\n",
       "      <td>2</td>\n",
       "      <td>1.810000e+02</td>\n",
       "      <td>181.0</td>\n",
       "      <td>0.00</td>\n",
       "      <td>21182.0</td>\n",
       "      <td>0.0</td>\n",
       "    </tr>\n",
       "    <tr>\n",
       "      <th>4</th>\n",
       "      <td>1</td>\n",
       "      <td>0</td>\n",
       "      <td>1.166814e+04</td>\n",
       "      <td>41554.0</td>\n",
       "      <td>29885.86</td>\n",
       "      <td>0.0</td>\n",
       "      <td>0.0</td>\n",
       "    </tr>\n",
       "  </tbody>\n",
       "</table>\n",
       "</div>"
      ],
      "text/plain": [
       "   Step  Type        Amount  Oldbalance Org  Newbalance Orig  Oldbalance Dest  \\\n",
       "0     1     0  1.361982e+09        170136.0        160296.36              0.0   \n",
       "1     1     0  1.864280e+03         21249.0         19384.72              0.0   \n",
       "2     1     1  1.810000e+02           181.0             0.00              0.0   \n",
       "3     1     2  1.810000e+02           181.0             0.00          21182.0   \n",
       "4     1     0  1.166814e+04         41554.0         29885.86              0.0   \n",
       "\n",
       "   Newbalance Dest  \n",
       "0              0.0  \n",
       "1              0.0  \n",
       "2              0.0  \n",
       "3              0.0  \n",
       "4              0.0  "
      ]
     },
     "execution_count": 151,
     "metadata": {},
     "output_type": "execute_result"
    }
   ],
   "source": [
    "x.head()"
   ]
  },
  {
   "cell_type": "code",
   "execution_count": 152,
   "id": "e0be7259-9ef3-4937-bce6-bff3541c3ac1",
   "metadata": {},
   "outputs": [
    {
     "name": "stdout",
     "output_type": "stream",
     "text": [
      "<class 'pandas.core.frame.DataFrame'>\n",
      "RangeIndex: 1048575 entries, 0 to 1048574\n",
      "Data columns (total 7 columns):\n",
      " #   Column           Non-Null Count    Dtype  \n",
      "---  ------           --------------    -----  \n",
      " 0   Step             1048575 non-null  int64  \n",
      " 1   Type             1048575 non-null  int64  \n",
      " 2   Amount           1048575 non-null  float64\n",
      " 3   Oldbalance Org   1048575 non-null  float64\n",
      " 4   Newbalance Orig  1048575 non-null  float64\n",
      " 5   Oldbalance Dest  1048575 non-null  float64\n",
      " 6   Newbalance Dest  1048575 non-null  float64\n",
      "dtypes: float64(5), int64(2)\n",
      "memory usage: 56.0 MB\n"
     ]
    }
   ],
   "source": [
    "x.info()"
   ]
  },
  {
   "cell_type": "code",
   "execution_count": 153,
   "id": "fb4d9500-6b3b-4e9b-b540-a07a40fd091c",
   "metadata": {},
   "outputs": [
    {
     "data": {
      "text/plain": [
       "0    0\n",
       "1    0\n",
       "2    1\n",
       "3    1\n",
       "4    0\n",
       "Name: Outcome, dtype: int64"
      ]
     },
     "execution_count": 153,
     "metadata": {},
     "output_type": "execute_result"
    }
   ],
   "source": [
    "y.head()"
   ]
  },
  {
   "cell_type": "markdown",
   "id": "f6a9faa6-da7b-445a-9e21-c685888d2077",
   "metadata": {},
   "source": [
    "### Dealing with imbalance dataset using SMOTE (synthetic ) technique   "
   ]
  },
  {
   "cell_type": "code",
   "execution_count": 154,
   "id": "5bb5ad3f-590c-4fb9-b3bd-932a8bf89b8d",
   "metadata": {},
   "outputs": [],
   "source": [
    "from imblearn.over_sampling import SMOTE\n",
    "smote = SMOTE()"
   ]
  },
  {
   "cell_type": "code",
   "execution_count": 155,
   "id": "6e36de8b-1fc7-4e81-aa6b-e38eab35c587",
   "metadata": {},
   "outputs": [],
   "source": [
    "x, y = smote.fit_resample(x,y)"
   ]
  },
  {
   "cell_type": "markdown",
   "id": "72eddf69-437a-432f-93e8-184d531283bf",
   "metadata": {},
   "source": [
    "#### splitting into training and testing set"
   ]
  },
  {
   "cell_type": "code",
   "execution_count": 156,
   "id": "105b61b1-b5fd-4c9e-a460-265fe61d9c11",
   "metadata": {},
   "outputs": [],
   "source": [
    "from sklearn.model_selection import train_test_split\n",
    "x.train,x.test,y.train,y.test = train_test_split(x,y,test_size=0.3, random_state=10)"
   ]
  },
  {
   "cell_type": "markdown",
   "id": "b9488c2b-1f07-4690-a1e9-c8f0660ce02e",
   "metadata": {},
   "source": [
    "#### Training the the model "
   ]
  },
  {
   "cell_type": "code",
   "execution_count": 158,
   "id": "305242e7-ae36-4801-8728-f4277fe6f249",
   "metadata": {},
   "outputs": [],
   "source": [
    "model = LogisticRegression()\n",
    "model.fit(x.train,y.train)\n",
    "model_pred = model.predict(x.test)"
   ]
  },
  {
   "cell_type": "markdown",
   "id": "7ab46083-e437-4ded-b8e4-1400cba815b3",
   "metadata": {},
   "source": [
    "#### Checking the accuracy of the model"
   ]
  },
  {
   "cell_type": "code",
   "execution_count": 159,
   "id": "0ea230b5-0b20-41f1-b511-409c92180b0c",
   "metadata": {},
   "outputs": [
    {
     "name": "stdout",
     "output_type": "stream",
     "text": [
      "F1 Score: 0.945024432031069\n",
      "Accuracy Score: 0.9437338891894472\n"
     ]
    },
    {
     "data": {
      "text/html": [
       "<div>\n",
       "<style scoped>\n",
       "    .dataframe tbody tr th:only-of-type {\n",
       "        vertical-align: middle;\n",
       "    }\n",
       "\n",
       "    .dataframe tbody tr th {\n",
       "        vertical-align: top;\n",
       "    }\n",
       "\n",
       "    .dataframe thead th {\n",
       "        text-align: right;\n",
       "    }\n",
       "</style>\n",
       "<table border=\"1\" class=\"dataframe\">\n",
       "  <thead>\n",
       "    <tr style=\"text-align: right;\">\n",
       "      <th>col_0</th>\n",
       "      <th>0</th>\n",
       "      <th>1</th>\n",
       "    </tr>\n",
       "    <tr>\n",
       "      <th>Outcome</th>\n",
       "      <th></th>\n",
       "      <th></th>\n",
       "    </tr>\n",
       "  </thead>\n",
       "  <tbody>\n",
       "    <tr>\n",
       "      <th>0</th>\n",
       "      <td>289173</td>\n",
       "      <td>25265</td>\n",
       "    </tr>\n",
       "    <tr>\n",
       "      <th>1</th>\n",
       "      <td>10096</td>\n",
       "      <td>303926</td>\n",
       "    </tr>\n",
       "  </tbody>\n",
       "</table>\n",
       "</div>"
      ],
      "text/plain": [
       "col_0         0       1\n",
       "Outcome                \n",
       "0        289173   25265\n",
       "1         10096  303926"
      ]
     },
     "execution_count": 159,
     "metadata": {},
     "output_type": "execute_result"
    }
   ],
   "source": [
    "print('F1 Score:',f1_score(y.test,model_pred))\n",
    "print('Accuracy Score:',accuracy_score(y.test,model_pred))\n",
    "pd.crosstab(y.test,model_pred)"
   ]
  },
  {
   "cell_type": "code",
   "execution_count": 178,
   "id": "709b629e-6257-47ab-af1e-141a5d6290ae",
   "metadata": {},
   "outputs": [
    {
     "data": {
      "text/plain": [
       "314438"
      ]
     },
     "execution_count": 178,
     "metadata": {},
     "output_type": "execute_result"
    }
   ],
   "source": [
    "289173+25265"
   ]
  },
  {
   "cell_type": "code",
   "execution_count": 182,
   "id": "c050f484-0764-428e-9f57-26d30e46359d",
   "metadata": {},
   "outputs": [
    {
     "data": {
      "text/plain": [
       "0.9196502967198621"
      ]
     },
     "execution_count": 182,
     "metadata": {},
     "output_type": "execute_result"
    }
   ],
   "source": [
    " 289173/314438"
   ]
  },
  {
   "cell_type": "markdown",
   "id": "d47bf7a5-2e3b-4d70-82c3-2273debf98c3",
   "metadata": {},
   "source": [
    "#### The accuracy for Non-Fraudulet transaction is 91.96%"
   ]
  },
  {
   "cell_type": "code",
   "execution_count": 183,
   "id": "fe61498f-b3d8-4e49-9238-67be7615b53e",
   "metadata": {},
   "outputs": [
    {
     "data": {
      "text/plain": [
       "314022"
      ]
     },
     "execution_count": 183,
     "metadata": {},
     "output_type": "execute_result"
    }
   ],
   "source": [
    "10096+303926"
   ]
  },
  {
   "cell_type": "code",
   "execution_count": 184,
   "id": "bede1e7e-39e6-421f-a867-07a4a13c6c0c",
   "metadata": {},
   "outputs": [
    {
     "data": {
      "text/plain": [
       "0.9678493863487272"
      ]
     },
     "execution_count": 184,
     "metadata": {},
     "output_type": "execute_result"
    }
   ],
   "source": [
    "303926/314022"
   ]
  },
  {
   "cell_type": "markdown",
   "id": "c5e7d15a-8da4-4d83-8687-455fb6e7d174",
   "metadata": {},
   "source": [
    "#### The accuracy for Fraudulent transaction  is 96.78%"
   ]
  },
  {
   "cell_type": "markdown",
   "id": "2a449dd9-7d64-403e-a300-d1d29de66263",
   "metadata": {},
   "source": [
    "#  CREATING A SYSTEM FOR PREDICTION\n",
    "#### using this system we are going to randomly pick a row from the training dataset and predict its Outcome to see how well our model has learnt."
   ]
  },
  {
   "cell_type": "code",
   "execution_count": 189,
   "id": "0e4a0e50-e2fa-48c3-81fd-5e770c05df2a",
   "metadata": {
    "jupyter": {
     "source_hidden": true
    },
    "tags": []
   },
   "outputs": [
    {
     "name": "stdout",
     "output_type": "stream",
     "text": [
      " This is a Non-Fraudulent Transaction\n"
     ]
    }
   ],
   "source": [
    "## this is the record we are using \n",
    "#0 \t1 \t0 \t1.361982e+09 \t170136.00 \t160296.36 \t0.00 \t0.00 \t0\n",
    "# as we can see the outcome is O which is non-fraudulent \n",
    "input_data = (1,0,1.361982e+09,170136.0,160296.36,0.0,0.0)\n",
    "\n",
    "#Now i need to change the data(input_data) from tuple to numpy array; so that it can be mutable\n",
    "\n",
    "input_data_numpy_array = np.asarray(input_data)\n",
    "\n",
    "#now I reshape\n",
    "\n",
    "input_data_reshape = input_data_numpy_array.reshape(1,-1)\n",
    "\n",
    "prediction = model.predict(input_data_reshape)\n",
    "#now predict\n",
    "\n",
    "prediction\n",
    "\n",
    "if(prediction[0]==0):\n",
    "    print(' This is a Non-Fraudulent Transaction')\n",
    "else:\n",
    "    print('Warning! Warning!! Warning!!! This is a Fraudulent Transaction')"
   ]
  }
 ],
 "metadata": {
  "kernelspec": {
   "display_name": "Python 3 (ipykernel)",
   "language": "python",
   "name": "python3"
  },
  "language_info": {
   "codemirror_mode": {
    "name": "ipython",
    "version": 3
   },
   "file_extension": ".py",
   "mimetype": "text/x-python",
   "name": "python",
   "nbconvert_exporter": "python",
   "pygments_lexer": "ipython3",
   "version": "3.9.12"
  }
 },
 "nbformat": 4,
 "nbformat_minor": 5
}
